{
 "cells": [
  {
   "cell_type": "code",
   "execution_count": 1786,
   "source": [
    "from paiza_test import*\n",
    "import pandas as pd\n",
    "import numpy as np"
   ],
   "outputs": [],
   "metadata": {}
  },
  {
   "cell_type": "code",
   "execution_count": 1787,
   "source": [
    "input_text=\"\"\"8\n",
    "7 6 6\n",
    "3 4\n",
    "U 3\n",
    "L 3\n",
    "D 13\n",
    "R 1\n",
    "D 2\n",
    "R 6\n",
    "\"\"\"\n",
    "\n",
    "def_input(input_text)"
   ],
   "outputs": [],
   "metadata": {}
  },
  {
   "cell_type": "code",
   "execution_count": 1788,
   "source": [
    "print(input())"
   ],
   "outputs": [
    {
     "output_type": "stream",
     "name": "stdout",
     "text": [
      "8\n"
     ]
    }
   ],
   "metadata": {}
  },
  {
   "cell_type": "code",
   "execution_count": 1789,
   "source": [
    "w, h, n  = map(int, input().split())\n",
    "print(w,h,n)\n",
    "p = list(map(int, input().split(\" \")))\n",
    "print(p)\n",
    "\n",
    "line = [] \n",
    "for i in range(n):\n",
    "    line.append(input().split(' '))\n",
    "# dir_1, m_1 = input().split()\n",
    "# m_1 = int(m_1)\n",
    "print(len(line))\n",
    "print(line)"
   ],
   "outputs": [
    {
     "output_type": "stream",
     "name": "stdout",
     "text": [
      "7 6 6\n",
      "[3, 4]\n",
      "6\n",
      "[['U', '3'], ['L', '3'], ['D', '13'], ['R', '1'], ['D', '2'], ['R', '6']]\n"
     ]
    }
   ],
   "metadata": {}
  },
  {
   "cell_type": "code",
   "execution_count": 1790,
   "source": [
    "for i in line:\n",
    "  print(i)\n",
    "  if i[0] == \"U\":\n",
    "    count = int((int(i[1]) + p[1]) / h)\n",
    "    # print(\"境界を越えた回数\",count)\n",
    "    hiki = h * count\n",
    "    # print(\"引き算する数\",hiki)\n",
    "    # print(\"上に移動した時の座標\",p[1] + int(i[1]))\n",
    "    print(p[0], p[1] + int(i[1]) - hiki)\n",
    "    p[1] = p[1] + int(i[1]) - hiki\n",
    "  \n",
    "  if i[0] == \"D\":\n",
    "    a = h - p[1] -1\n",
    "    print(a)\n",
    "    count = int((int(i[1]) + a) / h)\n",
    "    print(\"境界を越えた回数\",count)\n",
    "    hiki = h * count\n",
    "    # print(\"引き算する数\",hiki)\n",
    "    # print(\"下に移動した時の座標\",p[1] - int(i[1]))\n",
    "    print(p[0], p[1] - int(i[1]) +hiki)\n",
    "    p[1] = p[1] - int(i[1]) +hiki\n",
    "\n",
    "  if i[0] == \"R\":\n",
    "    count = int((int(i[1]) + p[1]) / w)\n",
    "    hiki = w * count\n",
    "    # print(p[0] + int(i[1]) - hiki, p[1])\n",
    "    p[0] = p[0] + int(i[1]) - hiki\n",
    "  \n",
    "  if i[0] == \"L\":\n",
    "    a = w - p[0] -1\n",
    "    count = int((int(i[1]) + a) / w)\n",
    "    hiki = w * count\n",
    "    # print(p[0] - int(i[1]) + hiki, p[1])\n",
    "    p[0] = p[0] - int(i[1]) + hiki\n",
    "\n",
    "print(p[0],p[1])\n"
   ],
   "outputs": [
    {
     "output_type": "stream",
     "name": "stdout",
     "text": [
      "['U', '3']\n",
      "3 1\n",
      "['L', '3']\n",
      "['D', '13']\n",
      "4\n",
      "境界を越えた回数 2\n",
      "0 0\n",
      "['R', '1']\n",
      "['D', '2']\n",
      "5\n",
      "境界を越えた回数 1\n",
      "1 4\n",
      "['R', '6']\n",
      "0 4\n"
     ]
    }
   ],
   "metadata": {}
  },
  {
   "cell_type": "markdown",
   "source": [],
   "metadata": {}
  },
  {
   "cell_type": "markdown",
   "source": [],
   "metadata": {}
  },
  {
   "cell_type": "markdown",
   "source": [],
   "metadata": {}
  },
  {
   "cell_type": "markdown",
   "source": [],
   "metadata": {}
  },
  {
   "cell_type": "markdown",
   "source": [],
   "metadata": {}
  },
  {
   "cell_type": "code",
   "execution_count": 1791,
   "source": [
    "Coordinate = []\n",
    "for _i in range(w):\n",
    "  arr = []\n",
    "  for _u in range(h):\n",
    "    arr.append((_i,_u))\n",
    "  Coordinate.append(arr)\n",
    "  \n",
    "# 左回転\n",
    "S = Coordinate\n",
    "new_arr = []\n",
    "T_S = list(zip(*S))\n",
    "for x in T_S[::-1]:\n",
    "  new_arr.append(list(x))\n",
    "print(new_arr)"
   ],
   "outputs": [
    {
     "output_type": "stream",
     "name": "stdout",
     "text": [
      "[[(0, 5), (1, 5), (2, 5), (3, 5), (4, 5), (5, 5), (6, 5)], [(0, 4), (1, 4), (2, 4), (3, 4), (4, 4), (5, 4), (6, 4)], [(0, 3), (1, 3), (2, 3), (3, 3), (4, 3), (5, 3), (6, 3)], [(0, 2), (1, 2), (2, 2), (3, 2), (4, 2), (5, 2), (6, 2)], [(0, 1), (1, 1), (2, 1), (3, 1), (4, 1), (5, 1), (6, 1)], [(0, 0), (1, 0), (2, 0), (3, 0), (4, 0), (5, 0), (6, 0)]]\n"
     ]
    }
   ],
   "metadata": {}
  },
  {
   "cell_type": "code",
   "execution_count": 1792,
   "source": [
    "# if dir_1 == \"U\":\n",
    "#   p[1] = int(m_1) + p[1]\n",
    "#   count = int(p[1] / h)\n",
    "#   if count != 0:\n",
    "#     p[1] = p[1] - h * count\n",
    "\n",
    "# if dir_1 == \"D\":\n",
    "#   a = h - p[1] -1\n",
    "#   p[1] = p[1] - int(m_1)\n",
    "#   count = int((int(m_1) + a) / h)\n",
    "#   if count != 0:\n",
    "#     p[1] = p[1] + h * count\n",
    "\n",
    "# if dir_1 == \"R\":\n",
    "#   p[0] = int(m_1) + p[0]\n",
    "#   count = int(p[0] / w)\n",
    "#   if count != 0:\n",
    "#     p[0] = p[0] - w * count\n",
    "\n",
    "# if dir_1 == \"L\":\n",
    "#   a = w - p[0] -1\n",
    "#   print(a)\n",
    "#   p[0] = p[0] - int(m_1)\n",
    "#   print(p)\n",
    "#   count = int((int(m_1) + a) / w)\n",
    "#   print(count)\n",
    "#   if count != 0:\n",
    "#     p[0] = p[0] + w * count\n",
    "# print(p[0],p[1])\n",
    "  "
   ],
   "outputs": [],
   "metadata": {}
  }
 ],
 "metadata": {
  "orig_nbformat": 4,
  "language_info": {
   "name": "python",
   "version": "3.8.5",
   "mimetype": "text/x-python",
   "codemirror_mode": {
    "name": "ipython",
    "version": 3
   },
   "pygments_lexer": "ipython3",
   "nbconvert_exporter": "python",
   "file_extension": ".py"
  },
  "kernelspec": {
   "name": "python3",
   "display_name": "Python 3.8.5 64-bit ('venv': venv)"
  },
  "interpreter": {
   "hash": "f13631c8933df2c77a5f37b07a4eee384ff657868836bfcfaf302a40f637f675"
  }
 },
 "nbformat": 4,
 "nbformat_minor": 2
}