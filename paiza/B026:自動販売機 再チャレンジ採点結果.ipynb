{
 "cells": [
  {
   "cell_type": "code",
   "execution_count": 1336,
   "metadata": {},
   "outputs": [
    {
     "ename": "ModuleNotFoundError",
     "evalue": "No module named 'pandas'",
     "output_type": "error",
     "traceback": [
      "\u001b[0;31m---------------------------------------------------------------------------\u001b[0m",
      "\u001b[0;31mModuleNotFoundError\u001b[0m                       Traceback (most recent call last)",
      "\u001b[1;32m/Users/masa/Desktop/paiza-py/paiza/C059:パリティチェック copy.ipynb Cell 1'\u001b[0m in \u001b[0;36m<cell line: 2>\u001b[0;34m()\u001b[0m\n\u001b[1;32m      <a href='vscode-notebook-cell:/Users/masa/Desktop/paiza-py/paiza/C059%3A%E3%83%91%E3%83%AA%E3%83%86%E3%82%A3%E3%83%81%E3%82%A7%E3%83%83%E3%82%AF%20copy.ipynb#ch0000000?line=0'>1</a>\u001b[0m \u001b[39mfrom\u001b[39;00m \u001b[39mpaiza_test\u001b[39;00m \u001b[39mimport\u001b[39;00m\u001b[39m*\u001b[39m\n\u001b[0;32m----> <a href='vscode-notebook-cell:/Users/masa/Desktop/paiza-py/paiza/C059%3A%E3%83%91%E3%83%AA%E3%83%86%E3%82%A3%E3%83%81%E3%82%A7%E3%83%83%E3%82%AF%20copy.ipynb#ch0000000?line=1'>2</a>\u001b[0m \u001b[39mimport\u001b[39;00m \u001b[39mpandas\u001b[39;00m \u001b[39mas\u001b[39;00m \u001b[39mpd\u001b[39;00m\n",
      "\u001b[0;31mModuleNotFoundError\u001b[0m: No module named 'pandas'"
     ]
    }
   ],
   "source": [
    "from paiza_test import*\n",
    "import pandas as pd\n",
    "import numpy as np"
   ]
  },
  {
   "cell_type": "code",
   "execution_count": 1324,
   "metadata": {},
   "outputs": [],
   "source": [
    "input_text=\"\"\"6\n",
    "5 7 8 9\n",
    "4\n",
    "110 0 2 0 0\n",
    "120 1 0 0 0\n",
    "130 1 0 0 0\n",
    "180 0 2 0 2\n",
    "\"\"\"\n",
    "\n",
    "def_input(input_text)"
   ]
  },
  {
   "cell_type": "code",
   "execution_count": 1325,
   "metadata": {},
   "outputs": [
    {
     "data": {
      "text/plain": [
       "6"
      ]
     },
     "execution_count": 1325,
     "metadata": {},
     "output_type": "execute_result"
    }
   ],
   "source": [
    "n=int(input())\n",
    "n"
   ]
  },
  {
   "cell_type": "code",
   "execution_count": 1326,
   "metadata": {},
   "outputs": [],
   "source": [
    "N500, N100, N50, N10 = map(int, input().split())\n",
    "# print(N500, N100, N50, N10)"
   ]
  },
  {
   "cell_type": "code",
   "execution_count": 1327,
   "metadata": {},
   "outputs": [],
   "source": [
    "# coin = [N100, N50, N10]"
   ]
  },
  {
   "cell_type": "code",
   "execution_count": 1328,
   "metadata": {},
   "outputs": [],
   "source": [
    "N = int(input())\n",
    "# N"
   ]
  },
  {
   "cell_type": "code",
   "execution_count": 1329,
   "metadata": {},
   "outputs": [],
   "source": [
    "# input_list = list(map(int, input().split(\",\")))"
   ]
  },
  {
   "cell_type": "code",
   "execution_count": 1330,
   "metadata": {},
   "outputs": [],
   "source": [
    "line = [(input()) for _ in range(N)]\n",
    "line = [list(map(int, i.rstrip().split(\" \"))) for i in line]\n",
    "# line"
   ]
  },
  {
   "cell_type": "code",
   "execution_count": 1331,
   "metadata": {},
   "outputs": [
    {
     "name": "stdout",
     "output_type": "stream",
     "text": [
      "[0, 9, 0]\n",
      "0 0 1 4\n",
      "[3, 8, 0]\n",
      "0 3 1 3\n",
      "[3, 7, 0]\n",
      "0 3 1 2\n",
      "[0, 4, 0]\n",
      "impossible\n"
     ]
    }
   ],
   "source": [
    "for i in line:\n",
    "  value = i.pop(0)\n",
    "  post = (i[0]*500) + (i[1]*100) + (i[2]*50) + (i[3]*10)\n",
    "  res = post - value\n",
    "  res = list(str(res).zfill(3))\n",
    "  res = list(map(int,res))\n",
    "  print(res)\n",
    "  # print(N500, N100, N50, N10)\n",
    "  skip = 0\n",
    "  \n",
    "  x = 0\n",
    "  a = 0\n",
    "  b = 0\n",
    "  c = 0\n",
    "  for _ in range(res[0]):\n",
    "    if N100 > 0:\n",
    "      N100 -= 1\n",
    "      a += 1 \n",
    "    else: skip += 2\n",
    "  if N50 > 0:\n",
    "    N50 -= (res[1]+skip)//5\n",
    "    b += (res[1]+skip)//5\n",
    "    skip = (res[1]+skip) % 5\n",
    "  else:\n",
    "    skip = skip * 10 + res[1]\n",
    "  # print(skip)\n",
    "  if N10 > 0 and N10 >= skip:\n",
    "    N10 -= skip\n",
    "    c += skip\n",
    "  else: \n",
    "    print(\"impossible\")\n",
    "    break\n",
    "  print(x,a,b,c)\n",
    "  # print(N500, N100, N50, N10)\n",
    "  "
   ]
  },
  {
   "cell_type": "code",
   "execution_count": 1332,
   "metadata": {},
   "outputs": [
    {
     "data": {
      "text/plain": [
       "1"
      ]
     },
     "execution_count": 1332,
     "metadata": {},
     "output_type": "execute_result"
    }
   ],
   "source": [
    "(5) // 5"
   ]
  },
  {
   "cell_type": "code",
   "execution_count": 1333,
   "metadata": {},
   "outputs": [
    {
     "data": {
      "text/plain": [
       "4"
      ]
     },
     "execution_count": 1333,
     "metadata": {},
     "output_type": "execute_result"
    }
   ],
   "source": [
    "(7+2) % 5"
   ]
  },
  {
   "cell_type": "code",
   "execution_count": 1396,
   "metadata": {},
   "outputs": [
    {
     "data": {
      "text/plain": [
       "0"
      ]
     },
     "execution_count": 1396,
     "metadata": {},
     "output_type": "execute_result"
    }
   ],
   "source": [
    "5 // 17"
   ]
  },
  {
   "cell_type": "code",
   "execution_count": 1390,
   "metadata": {},
   "outputs": [
    {
     "data": {
      "text/plain": [
       "4"
      ]
     },
     "execution_count": 1390,
     "metadata": {},
     "output_type": "execute_result"
    }
   ],
   "source": [
    "4 % 5"
   ]
  },
  {
   "cell_type": "code",
   "execution_count": 1395,
   "metadata": {},
   "outputs": [
    {
     "data": {
      "text/plain": [
       "0"
      ]
     },
     "execution_count": 1395,
     "metadata": {},
     "output_type": "execute_result"
    }
   ],
   "source": [
    "int(0 / 4)"
   ]
  },
  {
   "cell_type": "code",
   "execution_count": 1399,
   "metadata": {},
   "outputs": [
    {
     "data": {
      "text/plain": [
       "False"
      ]
     },
     "execution_count": 1399,
     "metadata": {},
     "output_type": "execute_result"
    }
   ],
   "source": [
    "3 >= 4"
   ]
  },
  {
   "cell_type": "code",
   "execution_count": 1403,
   "metadata": {},
   "outputs": [
    {
     "data": {
      "text/plain": [
       "True"
      ]
     },
     "execution_count": 1403,
     "metadata": {},
     "output_type": "execute_result"
    }
   ],
   "source": [
    "3 < 4"
   ]
  },
  {
   "cell_type": "markdown",
   "metadata": {},
   "source": [
    "----\n",
    "\n"
   ]
  },
  {
   "cell_type": "code",
   "execution_count": null,
   "metadata": {},
   "outputs": [],
   "source": [
    "import pandas as pd\n",
    "import numpy as np\n",
    "coin = np.array(list(map(int, input().split())))\n",
    "# print(coin)\n",
    "N = int(input())\n",
    "line = [(input()) for _ in range(N)]\n",
    "line = [list(map(int, i.rstrip().split(\" \"))) for i in line]\n",
    "# print(line)\n",
    "df = pd.DataFrame(line,columns=['value', 'c500', 'c100', 'c50','c10'])\n",
    "# print(df)\n",
    "# print(coin)\n",
    "for i in range(N):\n",
    "    \n",
    "    お釣り = (df[\"c500\"][i]*500) + (df[\"c100\"][i]*100) + (df[\"c50\"][i]*50) + (df[\"c10\"][i]*10) - df[\"value\"][i]\n",
    "    res = np.array(list(map(int,list(str(お釣り).zfill(4)))))\n",
    "    # print(coin)\n",
    "    # print(res)\n",
    "    cost_arr = [0]\n",
    "    cost = 0\n",
    "    skip = 0\n",
    "    \n",
    "    #100えん\n",
    "    if res[1] == 0 : cost_arr.append(0)\n",
    "    elif coin[1] >= res[1] : \n",
    "        cost = res[1]\n",
    "        cost_arr.append(cost)\n",
    "    elif coin[1] < res[1] :\n",
    "        cost = coin[1]\n",
    "        cost_arr.append(cost)\n",
    "        skip = (res[1] - coin[1]) * 2 \n",
    "        \n",
    "    # print(\"100えんから50えん\")\n",
    "    # print(cost)\n",
    "    # print(skip)\n",
    "    \n",
    "    # 50えん\n",
    "    if skip == 0 and res[2] == 0 : cost_arr.append(0) \n",
    "    elif (res[2] + skip) >= 5 and coin[2] >= 1:\n",
    "        cost_arr.append(1)\n",
    "        skip = res[2] + skip -5\n",
    "    elif coin[2] == 0:\n",
    "        skip = res[2] + (skip * 5)\n",
    "        cost_arr.append(0)\n",
    "    elif coin[2] > res[2] :\n",
    "        cost_arr.append(0)\n",
    "        skip = (res[2] + skip)  \n",
    "        \n",
    "    # print(\"50えんから10えん\")\n",
    "    # print(cost)\n",
    "    # print(skip)\n",
    "    # 10えん\n",
    "    if skip == 0 and res[3] == 0 : cost_arr.append(0) \n",
    "    elif coin[3] >= res[3] + skip :\n",
    "        cost = res[3] + skip \n",
    "        cost_arr.append(cost)\n",
    "\n",
    "    elif coin[3] < (res[3] + skip) :\n",
    "        print(\"impossible\")\n",
    "        break\n",
    "    # print(\" \".join(list(map(str,cost_arr))))\n",
    "    \n",
    "    add = np.array((df.iloc[i,1:]).to_list())\n",
    "    if (cost_arr[2] * 50) + (cost_arr[3] * 10) >= 100:\n",
    "        print(\"impossible\")\n",
    "        break\n",
    "    print(\" \".join(list(map(str,cost_arr))))\n",
    "    coin = coin - cost_arr + add\n",
    "    # print(coin)\n",
    "    "
   ]
  }
 ],
 "metadata": {
  "interpreter": {
   "hash": "f13631c8933df2c77a5f37b07a4eee384ff657868836bfcfaf302a40f637f675"
  },
  "kernelspec": {
   "display_name": "Python 3.8.5 64-bit ('venv': venv)",
   "name": "python3"
  },
  "language_info": {
   "codemirror_mode": {
    "name": "ipython",
    "version": 3
   },
   "file_extension": ".py",
   "mimetype": "text/x-python",
   "name": "python",
   "nbconvert_exporter": "python",
   "pygments_lexer": "ipython3",
   "version": "3.9.10"
  },
  "orig_nbformat": 4
 },
 "nbformat": 4,
 "nbformat_minor": 2
}
