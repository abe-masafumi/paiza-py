{
 "cells": [
  {
   "cell_type": "code",
   "execution_count": 16,
   "metadata": {},
   "outputs": [],
   "source": [
    "from paiza_test import*"
   ]
  },
  {
   "cell_type": "code",
   "execution_count": 17,
   "metadata": {},
   "outputs": [],
   "source": [
    "input_text=\"\"\"3\n",
    "2\n",
    "0011\n",
    "0110\n",
    "\"\"\"\n",
    "\n",
    "def_input(input_text)"
   ]
  },
  {
   "cell_type": "code",
   "execution_count": 18,
   "metadata": {},
   "outputs": [
    {
     "data": {
      "text/plain": [
       "3"
      ]
     },
     "execution_count": 18,
     "metadata": {},
     "output_type": "execute_result"
    }
   ],
   "source": [
    "n=int(input())\n",
    "n"
   ]
  },
  {
   "cell_type": "code",
   "execution_count": 19,
   "metadata": {},
   "outputs": [
    {
     "data": {
      "text/plain": [
       "2"
      ]
     },
     "execution_count": 19,
     "metadata": {},
     "output_type": "execute_result"
    }
   ],
   "source": [
    "a = int(input())\n",
    "a"
   ]
  },
  {
   "cell_type": "code",
   "execution_count": 20,
   "metadata": {},
   "outputs": [
    {
     "data": {
      "text/plain": [
       "[['0', '0', '1', '1'], ['0', '1', '1', '0']]"
      ]
     },
     "execution_count": 20,
     "metadata": {},
     "output_type": "execute_result"
    }
   ],
   "source": [
    "line = [list(input()) for i in range(a)]\n",
    "line"
   ]
  },
  {
   "cell_type": "code",
   "execution_count": 64,
   "metadata": {},
   "outputs": [
    {
     "name": "stdout",
     "output_type": "stream",
     "text": [
      "0101\n"
     ]
    }
   ],
   "source": [
    "test = 0\n",
    "arr = []\n",
    "for u in range(len(line[0])):\n",
    "  for i in line:test += int(i[u])\n",
    "  if test % 2 == 0: arr.append(\"0\")\n",
    "  else: arr.append(\"1\");test = 0\n",
    "  \n",
    "print(\"\".join(arr))\n",
    "\n",
    "  "
   ]
  },
  {
   "cell_type": "markdown",
   "metadata": {},
   "source": [
    "----\n",
    "test"
   ]
  },
  {
   "cell_type": "code",
   "execution_count": 61,
   "metadata": {},
   "outputs": [
    {
     "data": {
      "text/plain": [
       "[0, 0, 0, 1, 1, 1, 1, 0]"
      ]
     },
     "execution_count": 61,
     "metadata": {},
     "output_type": "execute_result"
    }
   ],
   "source": [
    "\n",
    "test = [int(u[i]) for i in range(len(line[0])) for u in line]\n"
   ]
  },
  {
   "cell_type": "code",
   "execution_count": 43,
   "metadata": {},
   "outputs": [
    {
     "data": {
      "text/plain": [
       "[0, 0, 1, 1, 2, 2, 3, 3, 4, 4, 5, 5, 6, 6, 7, 7, 8, 8, 9, 9]"
      ]
     },
     "execution_count": 43,
     "metadata": {},
     "output_type": "execute_result"
    }
   ],
   "source": [
    "a = [i for i in range(10) for u in range(2) if u == 0 or u == 1]\n",
    "a"
   ]
  },
  {
   "cell_type": "code",
   "execution_count": 39,
   "metadata": {},
   "outputs": [
    {
     "name": "stdout",
     "output_type": "stream",
     "text": [
      "[1, 2, 3, 4, 5, 6, 7, 8, 9]\n"
     ]
    }
   ],
   "source": [
    "matrix = [[1, 2, 3], [4, 5, 6], [7, 8, 9]]\n",
    "flat = [x for row in matrix for x in row]\n",
    "print(flat)"
   ]
  },
  {
   "cell_type": "code",
   "execution_count": 48,
   "metadata": {},
   "outputs": [
    {
     "name": "stdout",
     "output_type": "stream",
     "text": [
      "2\n",
      "3\n"
     ]
    }
   ],
   "source": [
    "print(2);print(3)"
   ]
  },
  {
   "cell_type": "code",
   "execution_count": 88,
   "metadata": {},
   "outputs": [
    {
     "data": {
      "text/plain": [
       "[11, 5]"
      ]
     },
     "execution_count": 88,
     "metadata": {},
     "output_type": "execute_result"
    }
   ],
   "source": [
    "main1 = [5,6,7,8,15,6,7,8,11]\n",
    "main2 = [12,1,1,1,15,6,7,8,9222]\n",
    "\n",
    "diff = list(set(main1) - set(main2))\n",
    "diff"
   ]
  },
  {
   "cell_type": "code",
   "execution_count": 98,
   "metadata": {},
   "outputs": [
    {
     "data": {
      "text/plain": [
       "[1, 2, 6, 7]"
      ]
     },
     "execution_count": 98,
     "metadata": {},
     "output_type": "execute_result"
    }
   ],
   "source": [
    "main1 = [1,2,3,4,5]\n",
    "main2 = [3,4,5,6,7]\n",
    "\n",
    "diff = list(set(main1) ^ set(main2))\n",
    "diff"
   ]
  },
  {
   "cell_type": "code",
   "execution_count": 99,
   "metadata": {},
   "outputs": [
    {
     "data": {
      "text/plain": [
       "'hellohellohellohello'"
      ]
     },
     "execution_count": 99,
     "metadata": {},
     "output_type": "execute_result"
    }
   ],
   "source": [
    "str = \"hello\"\n",
    "str *= 4\n",
    "str"
   ]
  },
  {
   "cell_type": "code",
   "execution_count": 108,
   "metadata": {},
   "outputs": [
    {
     "data": {
      "text/plain": [
       "3"
      ]
     },
     "execution_count": 108,
     "metadata": {},
     "output_type": "execute_result"
    }
   ],
   "source": [
    "# あまりをカウントしない割り算\n",
    "numberr = 20\n",
    "\n",
    "numberr //= 6\n",
    "numberr"
   ]
  },
  {
   "cell_type": "code",
   "execution_count": 119,
   "metadata": {},
   "outputs": [
    {
     "data": {
      "text/plain": [
       "312"
      ]
     },
     "execution_count": 119,
     "metadata": {},
     "output_type": "execute_result"
    }
   ],
   "source": [
    "# ????\n",
    "numberr = 20009\n",
    "\n",
    "numberr >>= 6\n",
    "numberr"
   ]
  },
  {
   "cell_type": "code",
   "execution_count": 124,
   "metadata": {},
   "outputs": [
    {
     "data": {
      "text/plain": [
       "6"
      ]
     },
     "execution_count": 124,
     "metadata": {},
     "output_type": "execute_result"
    }
   ],
   "source": [
    "# ???\n",
    "numberr = 22\n",
    "\n",
    "numberr &= 6\n",
    "numberr"
   ]
  },
  {
   "cell_type": "code",
   "execution_count": 130,
   "metadata": {},
   "outputs": [
    {
     "data": {
      "text/plain": [
       "16"
      ]
     },
     "execution_count": 130,
     "metadata": {},
     "output_type": "execute_result"
    }
   ],
   "source": [
    "# 引き算した後の絶対値\n",
    "numberr = 6\n",
    "\n",
    "numberr ^= 22\n",
    "numberr"
   ]
  },
  {
   "cell_type": "code",
   "execution_count": 143,
   "metadata": {},
   "outputs": [
    {
     "data": {
      "text/plain": [
       "30"
      ]
     },
     "execution_count": 143,
     "metadata": {},
     "output_type": "execute_result"
    }
   ],
   "source": [
    "# ???\n",
    "numberr = 24\n",
    "\n",
    "numberr |= 22\n",
    "numberr"
   ]
  },
  {
   "cell_type": "code",
   "execution_count": 149,
   "metadata": {},
   "outputs": [
    {
     "data": {
      "text/plain": [
       "16"
      ]
     },
     "execution_count": 149,
     "metadata": {},
     "output_type": "execute_result"
    }
   ],
   "source": [
    "# 引き算した後の絶対値\n",
    "numberr = 6\n",
    "\n",
    "numberr ^= 22\n",
    "numberr"
   ]
  },
  {
   "cell_type": "code",
   "execution_count": 150,
   "metadata": {},
   "outputs": [
    {
     "data": {
      "text/plain": [
       "['test3', 'test2']"
      ]
     },
     "execution_count": 150,
     "metadata": {},
     "output_type": "execute_result"
    }
   ],
   "source": [
    "test2 = [\"test\",\"test2\"]\n",
    "test3 = [\"test\",\"test3\"]\n",
    "\n",
    "test4 = list(set(test2) ^ set(test3))\n",
    "test4"
   ]
  },
  {
   "cell_type": "code",
   "execution_count": 159,
   "metadata": {},
   "outputs": [
    {
     "name": "stdout",
     "output_type": "stream",
     "text": [
      "['t', 's', 't']\n"
     ]
    }
   ],
   "source": [
    "a = [i for i in 'test']\n",
    "b = [i for i in 'tsst']\n",
    "\n",
    "print([i for i , j in zip(a,b) if i == j ])\n",
    "\n",
    "# for name, age in zip(names, ages):\n",
    "#     print(name, age)\n",
    "    \n"
   ]
  },
  {
   "cell_type": "code",
   "execution_count": 157,
   "metadata": {},
   "outputs": [
    {
     "data": {
      "text/plain": [
       "['tt',\n",
       " 'te',\n",
       " 'ts',\n",
       " 'tt',\n",
       " 'et',\n",
       " 'ee',\n",
       " 'es',\n",
       " 'et',\n",
       " 'st',\n",
       " 'se',\n",
       " 'ss',\n",
       " 'st',\n",
       " 'tt',\n",
       " 'te',\n",
       " 'ts',\n",
       " 'tt']"
      ]
     },
     "execution_count": 157,
     "metadata": {},
     "output_type": "execute_result"
    }
   ],
   "source": [
    "a = \"test\"\n",
    "b = \"test\"\n",
    "\n",
    "\n",
    "a = [i + u for i in a for u in b]\n",
    "\n",
    "a "
   ]
  },
  {
   "cell_type": "code",
   "execution_count": 162,
   "metadata": {},
   "outputs": [
    {
     "data": {
      "text/plain": [
       "{(1, 1): 'a', (1, 2): 'b', (1, 3): 'c', (1, 4): 'd', (1, 5): 'e', (2, 1): 'f'}"
      ]
     },
     "execution_count": 162,
     "metadata": {},
     "output_type": "execute_result"
    }
   ],
   "source": [
    "point = {(1, 1): 'a', (1, 2): 'b', (1, 3): 'c', (1, 4): 'd', (1, 5): 'e',\n",
    "         (2, 1): 'f'}\n",
    "point"
   ]
  },
  {
   "cell_type": "code",
   "execution_count": 233,
   "metadata": {},
   "outputs": [
    {
     "data": {
      "text/plain": [
       "{(1, 1): '.',\n",
       " (1, 2): '*',\n",
       " (1, 3): '.',\n",
       " (1, 4): '*',\n",
       " (1, 5): '.',\n",
       " (2, 1): '*',\n",
       " (2, 2): '.',\n",
       " (2, 3): '.',\n",
       " (2, 4): '.',\n",
       " (2, 5): '.',\n",
       " (3, 1): '.',\n",
       " (3, 2): '*',\n",
       " (3, 3): '.',\n",
       " (3, 4): '.',\n",
       " (3, 5): '.',\n",
       " (4, 1): '.',\n",
       " (4, 2): '*',\n",
       " (4, 3): '.',\n",
       " (4, 4): '.',\n",
       " (4, 5): '*'}"
      ]
     },
     "execution_count": 233,
     "metadata": {},
     "output_type": "execute_result"
    }
   ],
   "source": [
    "# 座標を作成する関数\n",
    "def make_Coordinate(X,Y):\n",
    "\n",
    "  list_X = list(range(1,X+1))\n",
    "  list_Y = list(range(1,Y+1))\n",
    "  keys = [(i, u) for i in list_Y for u in list_X]\n",
    "  # print(a)\n",
    "  \n",
    "  # valuesは要素の数必要 リストで作成してもいい\n",
    "  \n",
    "  # values = \"◉\"*(len(list_X)*len(list_Y))\n",
    "  # or\n",
    "  # values = list(range(1,X*Y+1))\n",
    "  # or\n",
    "  values = \".*.*.*.....*....*..*\"\n",
    "  \n",
    "  # dictに変更\n",
    "  items = dict(zip(keys,values))\n",
    "  items\n",
    "  return items\n",
    "coordinate =  make_Coordinate(5, 4)\n",
    "coordinate"
   ]
  },
  {
   "cell_type": "code",
   "execution_count": 332,
   "metadata": {},
   "outputs": [
    {
     "name": "stdout",
     "output_type": "stream",
     "text": [
      "2 2\n",
      ".*.*.\n",
      "***..\n",
      "..*..\n",
      "..*.*\n"
     ]
    }
   ],
   "source": [
    "coordinate = make_Coordinate(5, 4)\n",
    "\n",
    "x = 2\n",
    "y = 2 \n",
    "\n",
    "if coordinate[x,y] == \"*\": direction_num = 2\n",
    "else:direction_num = 0\n",
    "\n",
    "print(y,x)\n",
    "\n",
    "def test():\n",
    "  global direction_num,x,y\n",
    "  \n",
    "  # ここで記述しないと x, y の値が初期のままになる\n",
    "  右 = (y, x + 1)\n",
    "  左 = (y, x - 1)\n",
    "  上 = (y - 1, x)\n",
    "  下 = (y + 1, x)\n",
    "  direction = [右,下,左,上]\n",
    "  \n",
    "  if x > 5 or y > 4:return coordinate\n",
    "  if coordinate[y,x] == \".\":direction_num += 1;coordinate[y,x] = \"*\";y , x = direction[direction_num-1]\n",
    "  else:direction_num -= 1;coordinate[y,x] = \".\";y , x = direction[direction_num-1]\n",
    "  return test()\n",
    "a = test()\n",
    "a\n",
    "# arr = []\n",
    "# for i in a.values():\n",
    "#   arr.append(i)\n",
    "# result = \"\".join(arr)\n",
    "# for i in range(0,len(arr), 5):\n",
    "  # print(arr[i:i+5])\n",
    "arr = [i for i in a.values()]\n",
    "for i in range(0,len(arr), 5):\n",
    "  print(\"\".join(arr[i:i+5]))"
   ]
  },
  {
   "cell_type": "markdown",
   "metadata": {},
   "source": [
    "paizaで２個しか正解ジャない"
   ]
  },
  {
   "cell_type": "code",
   "execution_count": null,
   "metadata": {},
   "outputs": [],
   "source": [
    "a, b  = map(int, input().split())\n",
    "y, x  = map(int, input().split())\n",
    "line = [input() for i in range(a)]\n",
    "str = \"\".join(line)\n",
    "# 座標を作成する関数\n",
    "def make_Coordinate(X,Y):\n",
    "\n",
    "  list_X = list(range(1,X+1))\n",
    "  list_Y = list(range(1,Y+1))\n",
    "  keys = [(i, u) for i in list_Y for u in list_X]\n",
    "\n",
    "  # dictに変更\n",
    "  items = dict(zip(keys,str))\n",
    "  return items\n",
    "\n",
    "coordinate = make_Coordinate(b, a)\n",
    "\n",
    "if coordinate[x,y] == \"*\": direction_num = 2\n",
    "else:direction_num = 0\n",
    "\n",
    "def go():\n",
    "  global direction_num,x,y\n",
    "  \n",
    "  # ここで記述しないと x, y の値が初期のままになる\n",
    "  右 = (y, x + 1)\n",
    "  左 = (y, x - 1)\n",
    "  上 = (y - 1, x)\n",
    "  下 = (y + 1, x)\n",
    "  direction = [右,下,左,上]\n",
    "  \n",
    "  if x > b or y > a:return coordinate\n",
    "  if coordinate[y,x] == \".\":direction_num += 1;coordinate[y,x] = \"*\";y , x = direction[direction_num-1]\n",
    "  else:direction_num -= 1;coordinate[y,x] = \".\";y , x = direction[direction_num-1]\n",
    "  return go()\n",
    "go_res = go()\n",
    "\n",
    "arr = [i for i in go_res.values()]\n",
    "for i in range(0,len(arr), b):\n",
    "  print(\"\".join(arr[i:i+b]))"
   ]
  },
  {
   "cell_type": "code",
   "execution_count": 4,
   "metadata": {},
   "outputs": [
    {
     "data": {
      "text/plain": [
       "7.0"
      ]
     },
     "execution_count": 4,
     "metadata": {},
     "output_type": "execute_result"
    }
   ],
   "source": [
    "7 / 1\n"
   ]
  }
 ],
 "metadata": {
  "interpreter": {
   "hash": "f13631c8933df2c77a5f37b07a4eee384ff657868836bfcfaf302a40f637f675"
  },
  "kernelspec": {
   "display_name": "Python 3.8.5 64-bit ('venv': venv)",
   "name": "python3"
  },
  "language_info": {
   "codemirror_mode": {
    "name": "ipython",
    "version": 3
   },
   "file_extension": ".py",
   "mimetype": "text/x-python",
   "name": "python",
   "nbconvert_exporter": "python",
   "pygments_lexer": "ipython3",
   "version": "3.9.10"
  },
  "orig_nbformat": 4
 },
 "nbformat": 4,
 "nbformat_minor": 2
}
