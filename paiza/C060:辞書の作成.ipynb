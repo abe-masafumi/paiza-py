{
 "cells": [
  {
   "cell_type": "code",
   "execution_count": null,
   "metadata": {},
   "outputs": [],
   "source": [
    "N, K, P  = map(int, input().split())\n",
    "input_list = list(input().split(\" \"))\n",
    "s = sorted(input_list)\n",
    "result = [s[idx:idx + K] for idx in range(0,len(s), K)]\n",
    "print(\"\\n\".join(result[P -1]))"
   ]
  }
 ],
 "metadata": {
  "language_info": {
   "name": "python"
  },
  "orig_nbformat": 4
 },
 "nbformat": 4,
 "nbformat_minor": 2
}
