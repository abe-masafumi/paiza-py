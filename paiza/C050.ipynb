{
 "cells": [
  {
   "cell_type": "code",
   "execution_count": 20,
   "source": [
    "from paiza_test import*"
   ],
   "outputs": [],
   "metadata": {}
  },
  {
   "cell_type": "code",
   "execution_count": 21,
   "source": [
    "input_text=\"\"\"1\n",
    "1 1500 2050\n",
    "\"\"\"\n",
    "\n",
    "def_input(input_text)"
   ],
   "outputs": [],
   "metadata": {}
  },
  {
   "cell_type": "code",
   "execution_count": 22,
   "source": [
    "n=int(input())\n",
    "n\n",
    "# for i in range(n):\n",
    "#     print(input())"
   ],
   "outputs": [
    {
     "output_type": "execute_result",
     "data": {
      "text/plain": [
       "1"
      ]
     },
     "metadata": {},
     "execution_count": 22
    }
   ],
   "metadata": {}
  },
  {
   "cell_type": "code",
   "execution_count": 23,
   "source": [
    "a, b, c  = map(int, input().split())\n",
    "print(a)\n",
    "print(b)\n",
    "print(c)"
   ],
   "outputs": [
    {
     "output_type": "stream",
     "name": "stdout",
     "text": [
      "1\n",
      "1500\n",
      "2050\n"
     ]
    }
   ],
   "metadata": {}
  },
  {
   "cell_type": "code",
   "execution_count": 12,
   "source": [
    "a = input().split(' ')\n",
    "print(a)\n",
    "# 共通設定\n",
    "VS = 1\n",
    "right = \"N\"\n",
    "START_money = int(a[0])\n",
    "# チーム設定\n",
    "team_A = [int(a[1]),10,\"A\"]\n",
    "team_B = [int(a[2]),1000,\"B\"]\n",
    "\n",
    "print(START_money)\n",
    "print(team_A)\n",
    "print(team_B)"
   ],
   "outputs": [
    {
     "output_type": "stream",
     "name": "stdout",
     "text": [
      "['1', '1500', '2050']\n",
      "1\n",
      "[1500, 10, 'A']\n",
      "[2050, 1000, 'B']\n"
     ]
    }
   ],
   "metadata": {}
  },
  {
   "cell_type": "code",
   "execution_count": 13,
   "source": [
    "def check(team, VS):\n",
    "    #   値打ち        予算  -  追加金額\n",
    "    if START_money > team[0]-team[1]:\n",
    "        VS = 0\n",
    "    return VS\n",
    "print(\"check\")\n",
    "print(check(team_A, VS))\n",
    "\n",
    "def count_up(team):\n",
    "    global VS, START_money, right\n",
    "    \n",
    "    VS = check(team, VS)\n",
    "    if VS:\n",
    "        START_money = START_money + team[1]\n",
    "        right = team[2]\n",
    "    return"
   ],
   "outputs": [
    {
     "output_type": "stream",
     "name": "stdout",
     "text": [
      "check\n",
      "1\n"
     ]
    }
   ],
   "metadata": {}
  },
  {
   "cell_type": "code",
   "execution_count": 14,
   "source": [
    "while VS == 1:\n",
    "    count_up(team_A)\n",
    "    count_up(team_B)\n",
    "print(right,START_money)"
   ],
   "outputs": [
    {
     "output_type": "stream",
     "name": "stdout",
     "text": [
      "B 2021\n"
     ]
    }
   ],
   "metadata": {}
  }
 ],
 "metadata": {
  "orig_nbformat": 4,
  "language_info": {
   "name": "python",
   "version": "3.8.5",
   "mimetype": "text/x-python",
   "codemirror_mode": {
    "name": "ipython",
    "version": 3
   },
   "pygments_lexer": "ipython3",
   "nbconvert_exporter": "python",
   "file_extension": ".py"
  },
  "kernelspec": {
   "name": "python3",
   "display_name": "Python 3.8.5 64-bit ('venv': venv)"
  },
  "interpreter": {
   "hash": "f7b02a277ea93dcc6f71c1ec15134212ee9fa248997ed16dbaeb85b4def7b4d2"
  }
 },
 "nbformat": 4,
 "nbformat_minor": 2
}