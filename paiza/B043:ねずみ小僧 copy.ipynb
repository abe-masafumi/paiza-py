{
 "cells": [
  {
   "cell_type": "code",
   "execution_count": 491,
   "source": [
    "from paiza_test import*\n",
    "import pandas as pd"
   ],
   "outputs": [],
   "metadata": {}
  },
  {
   "cell_type": "code",
   "execution_count": 492,
   "source": [
    "input_text=\"\"\"6\n",
    "4 5\n",
    "2 2\n",
    ".*.*.\n",
    "*....\n",
    ".*...\n",
    ".*..*\n",
    "\"\"\"\n",
    "\n",
    "def_input(input_text)"
   ],
   "outputs": [],
   "metadata": {}
  },
  {
   "cell_type": "code",
   "execution_count": 493,
   "source": [
    "print(input())"
   ],
   "outputs": [
    {
     "output_type": "stream",
     "name": "stdout",
     "text": [
      "6\n"
     ]
    }
   ],
   "metadata": {}
  },
  {
   "cell_type": "code",
   "execution_count": 494,
   "source": [
    "\n",
    "n=input().split(\" \")\n",
    "print(n)\n",
    "t=input().split(\" \")\n",
    "print(t)\n",
    "f = int(n[0])\n",
    "line = []  #データを格納するカラのリスト\n",
    " \n",
    "for i in range(f):\n",
    "    line.append(list(input()))\n",
    "print(line)"
   ],
   "outputs": [
    {
     "output_type": "stream",
     "name": "stdout",
     "text": [
      "['4', '5']\n",
      "['2', '2']\n",
      "[['.', '*', '.', '*', '.'], ['*', '.', '.', '.', '.'], ['.', '*', '.', '.', '.'], ['.', '*', '.', '.', '*']]\n"
     ]
    }
   ],
   "metadata": {}
  },
  {
   "cell_type": "code",
   "execution_count": 495,
   "source": [
    "df = pd.DataFrame(line)\n",
    "df"
   ],
   "outputs": [
    {
     "output_type": "execute_result",
     "data": {
      "text/html": [
       "<div>\n",
       "<style scoped>\n",
       "    .dataframe tbody tr th:only-of-type {\n",
       "        vertical-align: middle;\n",
       "    }\n",
       "\n",
       "    .dataframe tbody tr th {\n",
       "        vertical-align: top;\n",
       "    }\n",
       "\n",
       "    .dataframe thead th {\n",
       "        text-align: right;\n",
       "    }\n",
       "</style>\n",
       "<table border=\"1\" class=\"dataframe\">\n",
       "  <thead>\n",
       "    <tr style=\"text-align: right;\">\n",
       "      <th></th>\n",
       "      <th>0</th>\n",
       "      <th>1</th>\n",
       "      <th>2</th>\n",
       "      <th>3</th>\n",
       "      <th>4</th>\n",
       "    </tr>\n",
       "  </thead>\n",
       "  <tbody>\n",
       "    <tr>\n",
       "      <th>0</th>\n",
       "      <td>.</td>\n",
       "      <td>*</td>\n",
       "      <td>.</td>\n",
       "      <td>*</td>\n",
       "      <td>.</td>\n",
       "    </tr>\n",
       "    <tr>\n",
       "      <th>1</th>\n",
       "      <td>*</td>\n",
       "      <td>.</td>\n",
       "      <td>.</td>\n",
       "      <td>.</td>\n",
       "      <td>.</td>\n",
       "    </tr>\n",
       "    <tr>\n",
       "      <th>2</th>\n",
       "      <td>.</td>\n",
       "      <td>*</td>\n",
       "      <td>.</td>\n",
       "      <td>.</td>\n",
       "      <td>.</td>\n",
       "    </tr>\n",
       "    <tr>\n",
       "      <th>3</th>\n",
       "      <td>.</td>\n",
       "      <td>*</td>\n",
       "      <td>.</td>\n",
       "      <td>.</td>\n",
       "      <td>*</td>\n",
       "    </tr>\n",
       "  </tbody>\n",
       "</table>\n",
       "</div>"
      ],
      "text/plain": [
       "   0  1  2  3  4\n",
       "0  .  *  .  *  .\n",
       "1  *  .  .  .  .\n",
       "2  .  *  .  .  .\n",
       "3  .  *  .  .  *"
      ]
     },
     "metadata": {},
     "execution_count": 495
    }
   ],
   "metadata": {}
  },
  {
   "cell_type": "code",
   "execution_count": 496,
   "source": [
    "startH = int(t[0]) -1\n",
    "startW = int(t[1]) -1\n",
    "p = df.at[startH, startW]\n",
    "direction_count = 0\n",
    "house = 0\n",
    "\n",
    "print(p)\n",
    "print(startH)\n",
    "print(startW)\n",
    "print(direction_count)"
   ],
   "outputs": [
    {
     "output_type": "stream",
     "name": "stdout",
     "text": [
      ".\n",
      "1\n",
      "1\n",
      "0\n"
     ]
    }
   ],
   "metadata": {}
  },
  {
   "cell_type": "markdown",
   "source": [
    "・今いる家が庶民の家であれば、その家を富豪の家にする。その後、90 度 (自分から見て) 右に回転して正面に 1 マス分進む。\n",
    "\n",
    "・今いる家が富豪の家であれば、その家を庶民の家にする。その後、90 度 (自分から見て) 左に回転して正面に 1 マス分進む。"
   ],
   "metadata": {}
  },
  {
   "cell_type": "code",
   "execution_count": null,
   "source": [
    "def I(): return int(input())\n",
    "N = I()\n",
    "S = [input() for _ in range(N)]\n",
    "T_S = list(zip(*S))\n",
    "for x in T_S[::-1]:\n",
    "    print(*x,sep='')\n"
   ],
   "outputs": [],
   "metadata": {}
  },
  {
   "cell_type": "code",
   "execution_count": 497,
   "source": [
    "def move(house):\n",
    "  global startW,startH\n",
    "  \n",
    "\n",
    "  if direction_count % 2 == 0:\n",
    "    startW += house\n",
    "  else:\n",
    "    startH += house\n",
    "  # if house:\n",
    "  #   startH -= 1\n",
    "  print(\"direction_count\")\n",
    "  print(direction_count)\n",
    "  return"
   ],
   "outputs": [],
   "metadata": {}
  },
  {
   "cell_type": "code",
   "execution_count": 498,
   "source": [
    "def check_wright(p,startH,startW):\n",
    "  global direction_count\n",
    "  if p == \".\":\n",
    "    house = 0\n",
    "    df.iloc[startH, startW] = \"*\"\n",
    "  else:\n",
    "    house = 1\n",
    "    df.iloc[startH, startW] = \".\"\n",
    "\n",
    "  direction_count += 1\n",
    "  \n",
    "  return df,house,direction_count"
   ],
   "outputs": [],
   "metadata": {}
  },
  {
   "cell_type": "code",
   "execution_count": 499,
   "source": [
    "def start():\n",
    "  global df,startH,startW,house\n",
    "\n",
    "  check_result = check_wright(p,startH,startW)\n",
    "  df = check_result[0]\n",
    "  house = check_result[1]\n",
    "  direction_count = check_result[2]\n",
    "  move(house)\n",
    "\n",
    "  print(\"return\")\n",
    "  print(df)\n",
    "  print(house)\n",
    "  print(startH)\n",
    "  print(startW)\n",
    "  print(direction_count)\n",
    "  return\n",
    "start()"
   ],
   "outputs": [
    {
     "output_type": "stream",
     "name": "stdout",
     "text": [
      "direction_count\n",
      "1\n",
      "return\n",
      "   0  1  2  3  4\n",
      "0  .  *  .  *  .\n",
      "1  *  *  .  .  .\n",
      "2  .  *  .  .  .\n",
      "3  .  *  .  .  *\n",
      "-1\n",
      "0\n",
      "1\n",
      "1\n"
     ]
    }
   ],
   "metadata": {}
  },
  {
   "cell_type": "code",
   "execution_count": null,
   "source": [],
   "outputs": [],
   "metadata": {}
  }
 ],
 "metadata": {
  "orig_nbformat": 4,
  "language_info": {
   "name": "python",
   "version": "3.8.5",
   "mimetype": "text/x-python",
   "codemirror_mode": {
    "name": "ipython",
    "version": 3
   },
   "pygments_lexer": "ipython3",
   "nbconvert_exporter": "python",
   "file_extension": ".py"
  },
  "kernelspec": {
   "name": "python3",
   "display_name": "Python 3.8.5 64-bit ('venv': venv)"
  },
  "interpreter": {
   "hash": "f13631c8933df2c77a5f37b07a4eee384ff657868836bfcfaf302a40f637f675"
  }
 },
 "nbformat": 4,
 "nbformat_minor": 2
}