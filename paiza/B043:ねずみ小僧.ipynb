{
 "cells": [
  {
   "cell_type": "code",
   "execution_count": 537,
   "source": [
    "from paiza_test import*\n",
    "import pandas as pd"
   ],
   "outputs": [],
   "metadata": {}
  },
  {
   "cell_type": "code",
   "execution_count": 538,
   "source": [
    "input_text=\"\"\"6\n",
    ".*.*.\n",
    "*....\n",
    ".*...\n",
    ".*..*\n",
    "\"\"\"\n",
    "\n",
    "def_input(input_text)"
   ],
   "outputs": [],
   "metadata": {}
  },
  {
   "cell_type": "code",
   "execution_count": 539,
   "source": [
    "def I(): return int(input())\n",
    "N = I() \n",
    "print(N)\n",
    "S = [input() for _ in range(N)]\n",
    "print(\"S\")\n",
    "print(S)\n",
    "T_S = list(zip(*S))\n",
    "for x in T_S[::-1]:\n",
    "    print(*x,sep='')"
   ],
   "outputs": [
    {
     "output_type": "stream",
     "name": "stdout",
     "text": [
      "6\n"
     ]
    },
    {
     "output_type": "error",
     "ename": "UnboundLocalError",
     "evalue": "local variable 'repeat' referenced before assignment",
     "traceback": [
      "\u001b[0;31m---------------------------------------------------------------------------\u001b[0m",
      "\u001b[0;31mStopIteration\u001b[0m                             Traceback (most recent call last)",
      "File \u001b[0;32m~/Desktop/study-py/paiza/paiza_test.py:9\u001b[0m, in \u001b[0;36minput\u001b[0;34m(reset)\u001b[0m\n\u001b[1;32m      8\u001b[0m \u001b[38;5;28;01mif\u001b[39;00m reset:\u001b[38;5;28;01mdel\u001b[39;00m inp,input_text,repeat;\u001b[38;5;28;01mreturn\u001b[39;00m\n\u001b[0;32m----> 9\u001b[0m \u001b[38;5;28;01mtry\u001b[39;00m:\u001b[38;5;28;01mreturn\u001b[39;00m \u001b[43minp\u001b[49m\u001b[38;5;241;43m.\u001b[39;49m\u001b[38;5;21;43m__next__\u001b[39;49m\u001b[43m(\u001b[49m\u001b[43m)\u001b[49m\n\u001b[1;32m     10\u001b[0m \u001b[38;5;28;01mexcept\u001b[39;00m:\n",
      "\u001b[0;31mStopIteration\u001b[0m: ",
      "\nDuring handling of the above exception, another exception occurred:\n",
      "\u001b[0;31mUnboundLocalError\u001b[0m                         Traceback (most recent call last)",
      "Input \u001b[0;32mIn [539]\u001b[0m, in \u001b[0;36m<module>\u001b[0;34m\u001b[0m\n\u001b[1;32m      2\u001b[0m N \u001b[38;5;241m=\u001b[39m I() \n\u001b[1;32m      3\u001b[0m \u001b[38;5;28mprint\u001b[39m(N)\n\u001b[0;32m----> 4\u001b[0m S \u001b[38;5;241m=\u001b[39m [\u001b[38;5;28minput\u001b[39m() \u001b[38;5;28;01mfor\u001b[39;00m _ \u001b[38;5;129;01min\u001b[39;00m \u001b[38;5;28mrange\u001b[39m(N)]\n\u001b[1;32m      5\u001b[0m \u001b[38;5;28mprint\u001b[39m(\u001b[38;5;124m\"\u001b[39m\u001b[38;5;124mS\u001b[39m\u001b[38;5;124m\"\u001b[39m)\n\u001b[1;32m      6\u001b[0m \u001b[38;5;28mprint\u001b[39m(S)\n",
      "Input \u001b[0;32mIn [539]\u001b[0m, in \u001b[0;36m<listcomp>\u001b[0;34m(.0)\u001b[0m\n\u001b[1;32m      2\u001b[0m N \u001b[38;5;241m=\u001b[39m I() \n\u001b[1;32m      3\u001b[0m \u001b[38;5;28mprint\u001b[39m(N)\n\u001b[0;32m----> 4\u001b[0m S \u001b[38;5;241m=\u001b[39m [\u001b[38;5;28;43minput\u001b[39;49m\u001b[43m(\u001b[49m\u001b[43m)\u001b[49m \u001b[38;5;28;01mfor\u001b[39;00m _ \u001b[38;5;129;01min\u001b[39;00m \u001b[38;5;28mrange\u001b[39m(N)]\n\u001b[1;32m      5\u001b[0m \u001b[38;5;28mprint\u001b[39m(\u001b[38;5;124m\"\u001b[39m\u001b[38;5;124mS\u001b[39m\u001b[38;5;124m\"\u001b[39m)\n\u001b[1;32m      6\u001b[0m \u001b[38;5;28mprint\u001b[39m(S)\n",
      "File \u001b[0;32m~/Desktop/study-py/paiza/paiza_test.py:11\u001b[0m, in \u001b[0;36minput\u001b[0;34m(reset)\u001b[0m\n\u001b[1;32m      9\u001b[0m \u001b[38;5;28;01mtry\u001b[39;00m:\u001b[38;5;28;01mreturn\u001b[39;00m inp\u001b[38;5;241m.\u001b[39m\u001b[38;5;21m__next__\u001b[39m()\n\u001b[1;32m     10\u001b[0m \u001b[38;5;28;01mexcept\u001b[39;00m:\n\u001b[0;32m---> 11\u001b[0m     \u001b[38;5;28;01mif\u001b[39;00m \u001b[43mrepeat\u001b[49m:inp\u001b[38;5;241m=\u001b[39mpreinput(input_text)\n\u001b[1;32m     12\u001b[0m     \u001b[38;5;28;01mreturn\u001b[39;00m inp\u001b[38;5;241m.\u001b[39m\u001b[38;5;21m__next__\u001b[39m()\n",
      "\u001b[0;31mUnboundLocalError\u001b[0m: local variable 'repeat' referenced before assignment"
     ]
    }
   ],
   "metadata": {}
  }
 ],
 "metadata": {
  "orig_nbformat": 4,
  "language_info": {
   "name": "python",
   "version": "3.8.5",
   "mimetype": "text/x-python",
   "codemirror_mode": {
    "name": "ipython",
    "version": 3
   },
   "pygments_lexer": "ipython3",
   "nbconvert_exporter": "python",
   "file_extension": ".py"
  },
  "kernelspec": {
   "name": "python3",
   "display_name": "Python 3.8.5 64-bit ('venv': venv)"
  },
  "interpreter": {
   "hash": "f13631c8933df2c77a5f37b07a4eee384ff657868836bfcfaf302a40f637f675"
  }
 },
 "nbformat": 4,
 "nbformat_minor": 2
}