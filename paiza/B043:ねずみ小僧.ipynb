{
 "cells": [
  {
   "cell_type": "code",
   "execution_count": 829,
   "source": [
    "from paiza_test import*\n",
    "import pandas as pd"
   ],
   "outputs": [],
   "metadata": {}
  },
  {
   "cell_type": "code",
   "execution_count": 830,
   "source": [
    "input_text=\"\"\"9\n",
    "7 5\n",
    "3 4\n",
    "**...\n",
    "..*..\n",
    ".....\n",
    "....*\n",
    "**.**\n",
    "*...*\n",
    ".....\n",
    "\"\"\"\n",
    "\n",
    "def_input(input_text)"
   ],
   "outputs": [],
   "metadata": {}
  },
  {
   "cell_type": "code",
   "execution_count": 831,
   "source": [
    "n=int(input())"
   ],
   "outputs": [],
   "metadata": {}
  },
  {
   "cell_type": "code",
   "execution_count": 832,
   "source": [
    "def mainas(num):\n",
    "  return num -1 "
   ],
   "outputs": [],
   "metadata": {}
  },
  {
   "cell_type": "code",
   "execution_count": 833,
   "source": [
    "right = 0\n",
    "left = 0\n",
    "a = list(map(int, input().split(\" \")))\n",
    "b = list(map(int, input().split(\" \")))\n",
    "b1 = list(map(mainas, b))\n",
    "line = []\n",
    "for i in range(a[0]):\n",
    "    line.append(list(input()))\n"
   ],
   "outputs": [],
   "metadata": {}
  },
  {
   "cell_type": "markdown",
   "source": [
    "・今いる家が庶民の家であれば、その家を富豪の家にする。その後、90 度 (自分から見て) 右に回転して正面に 1 マス分進む。\n",
    "\n",
    "・今いる家が富豪の家であれば、その家を庶民の家にする。その後、90 度 (自分から見て) 左に回転して正面に 1 マス分進む。"
   ],
   "metadata": {}
  },
  {
   "cell_type": "code",
   "execution_count": 834,
   "source": [
    "# 座標の配列を渡したて文字列を取得\n",
    "def position(arr,line):\n",
    "  if arr[0] < 0 or arr[0] >= len(line) or arr[1] < 0 or arr[1] >= len(line[0]):\n",
    "    return False\n",
    "  else:\n",
    "    return line[arr[0]][arr[1]]\n",
    "\n",
    "# 記号を置換\n",
    "def change(arr,str):\n",
    "  global line\n",
    "  line[arr[0]][arr[1]] = str\n",
    "  return line\n",
    "\n",
    "# 座標を左回転\n",
    "def rotate_left(arr):\n",
    "  global left\n",
    "  left = left + 1\n",
    "  T_S = list(zip(*arr))\n",
    "  new_arr = []\n",
    "  for x in T_S[::-1]:\n",
    "      u = list(x)\n",
    "      new_arr.append(u)\n",
    "  return new_arr\n",
    "\n",
    "# 座標を右回転\n",
    "def rotate_right(arr):\n",
    "  global right\n",
    "  right = right + 1\n",
    "  new_arr = []\n",
    "  for x in zip(*arr[::-1]):\n",
    "    u = list(x)\n",
    "    new_arr.append(u)\n",
    "  return new_arr\n",
    "  \n",
    "def search(line,s):\n",
    "  length = len(line)\n",
    "  for key, i in enumerate(line):\n",
    "    # print(key)\n",
    "    # print(i)\n",
    "    if f\"★{s}\" in i:\n",
    "      return [key,i.index(f\"★{s}\")]\n",
    "\n",
    "# 移動\n",
    "def move(where):\n",
    "  global line,b1\n",
    "  if where == \"右\":\n",
    "    b1[1] = b1[1] + 1\n",
    "    s = position(b1,line)\n",
    "    if s:\n",
    "      line = change(b1,f\"★{s}\")\n",
    "      line = rotate_left(line)\n",
    "  else:\n",
    "    b1[1] = b1[1] - 1\n",
    "    s = position(b1,line)\n",
    "    if s:\n",
    "      line = change(b1,f\"★{s}\")\n",
    "      line = rotate_right(line)\n",
    "\n",
    "  return s"
   ],
   "outputs": [],
   "metadata": {}
  },
  {
   "cell_type": "code",
   "execution_count": 835,
   "source": [
    "\n",
    "def start():\n",
    "  global b1,line\n",
    "  for _ in range(10):\n",
    "    s = position(b1,line)\n",
    "\n",
    "    if s == \".\":\n",
    "      change(b1,\"*\")\n",
    "      s = move(\"右\")\n",
    "      if s:\n",
    "        b1 = search(line,s)\n",
    "        line = change(b1,s)\n",
    "\n",
    "\n",
    "    elif s == \"*\":\n",
    "      change(b1,\".\")\n",
    "      s = move(\"左\")\n",
    "      if s:\n",
    "        b1 = search(line,s)\n",
    "        line = change(b1,s)\n",
    "  \n",
    "  return line\n",
    "\n",
    "end = start()\n",
    "print(end)\n",
    "last = [[right,\"右\"],[left,\"左\"]]\n",
    "print(last)\n",
    "w = min(last)\n",
    "print(w)\n",
    "aro = abs(last[0][0]-last[1][0])\n",
    "print(aro)\n",
    "if w == \"右\":\n",
    "  for _ in range(aro):\n",
    "    end = rotate_left(end)\n",
    "else:\n",
    "  for _ in range(aro):\n",
    "    end = rotate_right(end)\n",
    "\n",
    "for m in end:\n",
    "  print(m)"
   ],
   "outputs": [
    {
     "output_type": "stream",
     "name": "stdout",
     "text": [
      "[['.', '.', '.', '.', '.'], ['*', '.', '.', '.', '*'], ['*', '*', '.', '*', '*'], ['.', '.', '.', '.', '.'], ['*', '*', '.', '.', '.'], ['.', '.', '*', '.', '.'], ['.', '.', '.', '*', '*']]\n",
      "[[0, '右'], [2, '左']]\n",
      "[0, '右']\n",
      "2\n",
      "['*', '*', '.', '.', '.']\n",
      "['.', '.', '*', '.', '.']\n",
      "['.', '.', '.', '*', '*']\n",
      "['.', '.', '.', '.', '.']\n",
      "['*', '*', '.', '*', '*']\n",
      "['*', '.', '.', '.', '*']\n",
      "['.', '.', '.', '.', '.']\n"
     ]
    }
   ],
   "metadata": {}
  },
  {
   "cell_type": "code",
   "execution_count": 836,
   "source": [
    "# **...\n",
    "# ..*..\n",
    "# ...**\n",
    "# .....\n",
    "# **.**\n",
    "# *...*\n",
    "# ....."
   ],
   "outputs": [],
   "metadata": {}
  }
 ],
 "metadata": {
  "orig_nbformat": 4,
  "language_info": {
   "name": "python",
   "version": "3.8.5",
   "mimetype": "text/x-python",
   "codemirror_mode": {
    "name": "ipython",
    "version": 3
   },
   "pygments_lexer": "ipython3",
   "nbconvert_exporter": "python",
   "file_extension": ".py"
  },
  "kernelspec": {
   "name": "python3",
   "display_name": "Python 3.8.5 64-bit ('venv': venv)"
  },
  "interpreter": {
   "hash": "f13631c8933df2c77a5f37b07a4eee384ff657868836bfcfaf302a40f637f675"
  }
 },
 "nbformat": 4,
 "nbformat_minor": 2
}