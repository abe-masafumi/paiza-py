{
 "cells": [
  {
   "cell_type": "code",
   "execution_count": 93,
   "metadata": {},
   "outputs": [],
   "source": [
    "from paiza_test import*\n",
    "import time\n",
    "# import pandas as pd"
   ]
  },
  {
   "cell_type": "code",
   "execution_count": 94,
   "metadata": {},
   "outputs": [],
   "source": [
    "input_text=\"\"\"9\n",
    "7 5\n",
    "3 4\n",
    "**...\n",
    "..*..\n",
    ".....\n",
    "....*\n",
    "**.**\n",
    "*...*\n",
    ".....\n",
    "\"\"\"\n",
    "\n",
    "def_input(input_text)"
   ]
  },
  {
   "cell_type": "code",
   "execution_count": 95,
   "metadata": {},
   "outputs": [],
   "source": [
    "n=int(input())"
   ]
  },
  {
   "cell_type": "code",
   "execution_count": null,
   "metadata": {},
   "outputs": [],
   "source": [
    "def mainas(num):\n",
    "  return num -1 "
   ]
  },
  {
   "cell_type": "code",
   "execution_count": null,
   "metadata": {},
   "outputs": [],
   "source": [
    "right = 0\n",
    "left = 0\n",
    "a = list(map(int, input().split(\" \")))\n",
    "b = list(map(int, input().split(\" \")))\n",
    "b1 = list(map(mainas, b))\n",
    "line = []\n",
    "for i in range(a[0]):\n",
    "    line.append(list(input()))\n"
   ]
  },
  {
   "cell_type": "markdown",
   "metadata": {},
   "source": [
    "・今いる家が庶民の家であれば、その家を富豪の家にする。その後、90 度 (自分から見て) 右に回転して正面に 1 マス分進む。\n",
    "\n",
    "・今いる家が富豪の家であれば、その家を庶民の家にする。その後、90 度 (自分から見て) 左に回転して正面に 1 マス分進む。"
   ]
  },
  {
   "cell_type": "code",
   "execution_count": null,
   "metadata": {},
   "outputs": [],
   "source": [
    "# 座標の配列を渡したて文字列を取得\n",
    "def position(arr,line):\n",
    "  if arr[0] < 0 or arr[0] >= len(line) or arr[1] < 0 or arr[1] >= len(line[0]):\n",
    "    return False\n",
    "  else:\n",
    "    return line[arr[0]][arr[1]]\n",
    "\n",
    "# 記号を置換\n",
    "def change(arr,str):\n",
    "  global line\n",
    "  line[arr[0]][arr[1]] = str\n",
    "  return line\n",
    "\n",
    "# 座標を左回転\n",
    "def rotate_left(arr):\n",
    "  global left\n",
    "  left = left + 1\n",
    "  T_S = list(zip(*arr))\n",
    "  new_arr = []\n",
    "  for x in T_S[::-1]:\n",
    "    # print(x)\n",
    "      u = list(x)\n",
    "      new_arr.append(u)\n",
    "  return new_arr\n",
    "\n",
    "# 座標を右回転\n",
    "def rotate_right(arr):\n",
    "  global right\n",
    "  right = right + 1\n",
    "  new_arr = []\n",
    "  for x in zip(*arr[::-1]):\n",
    "    u = list(x)\n",
    "    new_arr.append(u)\n",
    "  return new_arr\n",
    "  \n",
    "def search(line,s):\n",
    "  length = len(line)\n",
    "  for key, i in enumerate(line):\n",
    "    # print(key)\n",
    "    # print(i)\n",
    "    if f\"★{s}\" in i:\n",
    "      return [key,i.index(f\"★{s}\")]\n",
    "\n",
    "# 移動\n",
    "def move(where):\n",
    "  global line,b1\n",
    "  if where == \"右\":\n",
    "    b1[1] = b1[1] + 1\n",
    "    s = position(b1,line)\n",
    "    if s:\n",
    "      line = change(b1,f\"★{s}\")\n",
    "      line = rotate_left(line)\n",
    "  else:\n",
    "    b1[1] = b1[1] - 1\n",
    "    s = position(b1,line)\n",
    "    if s:\n",
    "      line = change(b1,f\"★{s}\")\n",
    "      line = rotate_right(line)\n",
    "\n",
    "  return s"
   ]
  },
  {
   "cell_type": "code",
   "execution_count": null,
   "metadata": {},
   "outputs": [],
   "source": [
    "def start():\n",
    "  global b1,line\n",
    "  for _ in range(10):\n",
    "    s = position(b1,line)\n",
    "\n",
    "    if s == \".\":\n",
    "      change(b1,\"*\")\n",
    "      s = move(\"右\")\n",
    "      if s:\n",
    "        b1 = search(line,s)\n",
    "        line = change(b1,s)\n",
    "\n",
    "\n",
    "    elif s == \"*\":\n",
    "      change(b1,\".\")\n",
    "      s = move(\"左\")\n",
    "      if s:\n",
    "        b1 = search(line,s)\n",
    "        line = change(b1,s)\n",
    "  \n",
    "  return line\n",
    "\n",
    "end = start()\n",
    "print(end)\n",
    "last = [[right,\"右\"],[left,\"左\"]]\n",
    "print(last)\n",
    "w = min(last)\n",
    "print(\"w\")\n",
    "print(w)\n",
    "aro = abs(last[0][0]-last[1][0])\n",
    "print(aro)\n",
    "if w[1] == \"右\":\n",
    "  for _ in range(aro):\n",
    "    end = rotate_left(end)\n",
    "else:\n",
    "  for _ in range(aro):\n",
    "    end = rotate_right(end)\n",
    "\n",
    "for m in end:\n",
    "  print(m)"
   ]
  },
  {
   "cell_type": "code",
   "execution_count": null,
   "metadata": {},
   "outputs": [],
   "source": [
    "# **...\n",
    "# ..*..\n",
    "# ...**\n",
    "# .....\n",
    "# **.**\n",
    "# *...*\n",
    "# ....."
   ]
  },
  {
   "cell_type": "code",
   "execution_count": null,
   "metadata": {},
   "outputs": [],
   "source": [
    "a, b  = map(int, input().split())\n",
    "y, x  = map(int, input().split())\n",
    "line = [input() for i in range(a)]\n",
    "str = \"\".join(line)\n",
    "# 座標を作成する関数\n",
    "def make_Coordinate(X,Y):\n",
    "\n",
    "  list_X = list(range(1,X+1))\n",
    "  list_Y = list(range(1,Y+1))\n",
    "  keys = [(i, u) for i in list_Y for u in list_X]\n",
    "\n",
    "  # dictに変更\n",
    "  items = dict(zip(keys,str))\n",
    "  return items\n",
    "\n",
    "coordinate = make_Coordinate(b, a)\n",
    "\n",
    "if coordinate[x,y] == \"*\": direction_num = 2\n",
    "else:direction_num = 0\n",
    "\n",
    "def go():\n",
    "  global direction_num,x,y\n",
    "  \n",
    "  # ここで記述しないと x, y の値が初期のままになる\n",
    "  右 = (y, x + 1)\n",
    "  左 = (y, x - 1)\n",
    "  上 = (y - 1, x)\n",
    "  下 = (y + 1, x)\n",
    "  direction = [右,下,左,上]\n",
    "  \n",
    "  if x > b or y > a:return coordinate\n",
    "  if coordinate[y,x] == \".\":direction_num += 1;coordinate[y,x] = \"*\";y , x = direction[direction_num-1]\n",
    "  else:direction_num -= 1;coordinate[y,x] = \".\";y , x = direction[direction_num-1]\n",
    "  return go()\n",
    "go_res = go()\n",
    "\n",
    "arr = [i for i in go_res.values()]\n",
    "for i in range(0,len(arr), b):\n",
    "  print(\"\".join(arr[i:i+b]))"
   ]
  },
  {
   "cell_type": "markdown",
   "metadata": {},
   "source": [
    "1つ不正解"
   ]
  },
  {
   "cell_type": "code",
   "execution_count": 96,
   "metadata": {},
   "outputs": [
    {
     "name": "stdout",
     "output_type": "stream",
     "text": [
      "['**...', '..*..', '.....', '....*', '**.**', '*...*', '.....']\n",
      "3 5\n",
      "4 5\n",
      "4 6\n",
      "**...\n",
      "..*..\n",
      "...**\n",
      ".....\n",
      "**.**\n",
      "*...*\n",
      ".....\n",
      "elapsed_time:0.19499588012695312[sec]\n"
     ]
    }
   ],
   "source": [
    "a, b  = map(int, input().split())\n",
    "y, x  = map(int, input().split())\n",
    "line = [input() for _ in range(a)]\n",
    "# print(line)\n",
    "# print(a,b)\n",
    "# print(y,x)\n",
    "str = \"\".join(line)\n",
    "# print(str)\n",
    "def make_Coordinate(X,Y):\n",
    "\n",
    "  list_X = list(range(1,X+1)) # << 処理が早い\n",
    "  list_Y = list(range(1,Y+1))\n",
    "  keys = [(i, u) for i in list_Y for u in list_X]\n",
    "\n",
    "  # dictに変更\n",
    "  items = dict(zip(keys,str))\n",
    "  return items\n",
    "\n",
    "coordinate = make_Coordinate(b, a)\n",
    "# print(coordinate)\n",
    "\n",
    "location = \"北\"\n",
    "\n",
    "def roop():\n",
    "    global x,y,coordinate,location\n",
    "    if location == \"北\":\n",
    "        if coordinate[y,x] == \".\":\n",
    "            coordinate[y,x] = \"*\"\n",
    "            x += 1\n",
    "            location = \"東\"\n",
    "        else:\n",
    "            coordinate[y,x] = \".\"\n",
    "            x -= 1\n",
    "            location = \"西\"\n",
    "            \n",
    "    elif location == \"東\":\n",
    "        if coordinate[y,x] == \".\":\n",
    "            coordinate[y,x] = \"*\"\n",
    "            y += 1\n",
    "            location = \"南\"\n",
    "        else:\n",
    "            coordinate[y,x] = \".\"\n",
    "            y -= 1\n",
    "            location = \"北\"\n",
    "            \n",
    "    elif location == \"南\":\n",
    "        if coordinate[y,x] == \".\":\n",
    "            coordinate[y,x] = \"*\"\n",
    "            x -= 1\n",
    "            location = \"西\"\n",
    "        else:\n",
    "            coordinate[y,x] = \".\"\n",
    "            x += 1\n",
    "            location = \"東\"\n",
    "    \n",
    "    elif location == \"西\":\n",
    "        if coordinate[y,x] == \".\":\n",
    "            coordinate[y,x] = \"*\"\n",
    "            y -= 1\n",
    "            location = \"北\"\n",
    "        else:\n",
    "            coordinate[y,x] = \".\"\n",
    "            y += 1\n",
    "            location = \"南\"\n",
    "    # print(y,x)\n",
    "    if x <= b and y <= a and x > 0 and y > 0: return roop() # << 実行する回数が多くなる方を手前に\n",
    "    else: return coordinate\n",
    "result = roop()\n",
    "# print(result)\n",
    "        \n",
    "arr = [i for i in result.values()]\n",
    "for i in range(0,len(arr), b):\n",
    "  print(\"\".join(arr[i:i+b]))"
   ]
  },
  {
   "cell_type": "markdown",
   "metadata": {},
   "source": [
    "<!-- elapsed_time:0.0007297992706298828[sec] -->"
   ]
  },
  {
   "cell_type": "markdown",
   "metadata": {},
   "source": [
    "<!-- elapsed_time:0.0006058216094970703[sec] -->"
   ]
  },
  {
   "cell_type": "code",
   "execution_count": 108,
   "metadata": {},
   "outputs": [
    {
     "data": {
      "text/plain": [
       "[['*', '*', '.', '.', '.'],\n",
       " ['.', '.', '*', '.', '.'],\n",
       " ['.', '.', '.', '.', '.'],\n",
       " ['.', '.', '.', '.', '*'],\n",
       " ['*', '*', '.', '*', '*'],\n",
       " ['*', '.', '.', '.', '*'],\n",
       " ['.', '.', '.', '.', '.']]"
      ]
     },
     "execution_count": 108,
     "metadata": {},
     "output_type": "execute_result"
    }
   ],
   "source": [
    "t = ['**...', '..*..', '.....', '....*', '**.**', '*...*', '.....']\n",
    "a = [list(i) for i in t]\n",
    "a\n",
    "\n",
    "# a[2-1][2-1] = \".\"\n",
    "# a[2-1][2-1]"
   ]
  },
  {
   "cell_type": "code",
   "execution_count": null,
   "metadata": {},
   "outputs": [],
   "source": [
    "i = 1\n",
    "\n",
    "if i == 1:print(\"1ばん\")\n",
    "elif i == 1:print(\"2bann\")"
   ]
  },
  {
   "cell_type": "code",
   "execution_count": null,
   "metadata": {},
   "outputs": [],
   "source": [
    "[2,2] - [1, 0]"
   ]
  },
  {
   "cell_type": "code",
   "execution_count": null,
   "metadata": {},
   "outputs": [],
   "source": [
    "a = 0\n",
    "if a > -1:\n",
    "  print(\"w\")"
   ]
  }
 ],
 "metadata": {
  "interpreter": {
   "hash": "f13631c8933df2c77a5f37b07a4eee384ff657868836bfcfaf302a40f637f675"
  },
  "kernelspec": {
   "display_name": "Python 3.8.5 64-bit ('venv': venv)",
   "name": "python3"
  },
  "language_info": {
   "codemirror_mode": {
    "name": "ipython",
    "version": 3
   },
   "file_extension": ".py",
   "mimetype": "text/x-python",
   "name": "python",
   "nbconvert_exporter": "python",
   "pygments_lexer": "ipython3",
   "version": "3.9.10"
  },
  "orig_nbformat": 4
 },
 "nbformat": 4,
 "nbformat_minor": 2
}
