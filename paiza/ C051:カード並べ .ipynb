{
 "cells": [
  {
   "cell_type": "code",
   "execution_count": 6,
   "source": [
    "import itertools\n",
    "from paiza_test import*\n",
    "input_text=\"\"\"1\n",
    "2 9 3 8\n",
    "\"\"\"\n",
    "\n",
    "def_input(input_text)\n",
    "n=int(input())"
   ],
   "outputs": [],
   "metadata": {}
  },
  {
   "cell_type": "markdown",
   "source": [
    "try2"
   ],
   "metadata": {}
  },
  {
   "cell_type": "code",
   "execution_count": 7,
   "source": [
    "a = input().split(' ')\n",
    "# a = [int(s) for s in a]\n",
    "print(a)"
   ],
   "outputs": [],
   "metadata": {}
  },
  {
   "cell_type": "code",
   "execution_count": 8,
   "source": [
    "a.sort(reverse=True)\n",
    "# print(a)\n",
    "num1 = int(a[0] + a[2])\n",
    "num2 = int(a[1] + a[3])\n",
    "print(num1 + num2)"
   ],
   "outputs": [],
   "metadata": {}
  },
  {
   "cell_type": "markdown",
   "source": [
    "try1"
   ],
   "metadata": {}
  },
  {
   "cell_type": "code",
   "execution_count": 9,
   "source": [
    "a = input().split(' ')\n",
    "a"
   ],
   "outputs": [
    {
     "output_type": "execute_result",
     "data": {
      "text/plain": [
       "['2', '9', '3', '8']"
      ]
     },
     "metadata": {},
     "execution_count": 9
    }
   ],
   "metadata": {}
  },
  {
   "cell_type": "code",
   "execution_count": 11,
   "source": [
    "arr = []\n",
    "for v in itertools.permutations(a, 4):\n",
    "    a = list(v)\n",
    "    # print(a)\n",
    "    first = f\"{a[0]}{a[1]}\"\n",
    "    second = f\"{a[2]}{a[3]}\"\n",
    "    \n",
    "    result = int(first) + int(second)\n",
    "    arr.append(result)\n",
    "print(max(arr))"
   ],
   "outputs": [
    {
     "output_type": "stream",
     "name": "stdout",
     "text": [
      "175\n"
     ]
    }
   ],
   "metadata": {}
  }
 ],
 "metadata": {
  "orig_nbformat": 4,
  "language_info": {
   "name": "python",
   "version": "3.8.5",
   "mimetype": "text/x-python",
   "codemirror_mode": {
    "name": "ipython",
    "version": 3
   },
   "pygments_lexer": "ipython3",
   "nbconvert_exporter": "python",
   "file_extension": ".py"
  },
  "kernelspec": {
   "name": "python3",
   "display_name": "Python 3.8.5 64-bit ('venv': venv)"
  },
  "interpreter": {
   "hash": "f13631c8933df2c77a5f37b07a4eee384ff657868836bfcfaf302a40f637f675"
  }
 },
 "nbformat": 4,
 "nbformat_minor": 2
}