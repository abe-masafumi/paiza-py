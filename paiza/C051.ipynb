{
 "cells": [
  {
   "cell_type": "code",
   "execution_count": 42,
   "source": [
    "import itertools\n",
    "from paiza_test import*\n",
    "input_text=\"\"\"1\n",
    "2 9 3 8\n",
    "\"\"\"\n",
    "\n",
    "def_input(input_text)\n",
    "n=int(input())"
   ],
   "outputs": [],
   "metadata": {}
  },
  {
   "cell_type": "markdown",
   "source": [
    "try2"
   ],
   "metadata": {}
  },
  {
   "cell_type": "code",
   "execution_count": 43,
   "source": [
    "a = input().split(' ')\n",
    "# a = [int(s) for s in a]\n",
    "print(a)"
   ],
   "outputs": [
    {
     "output_type": "stream",
     "name": "stdout",
     "text": [
      "['2', '9', '3', '8']\n"
     ]
    }
   ],
   "metadata": {}
  },
  {
   "cell_type": "code",
   "execution_count": 49,
   "source": [
    "a.sort(reverse=True)\n",
    "# print(a)\n",
    "num1 = int(a[0] + a[2])\n",
    "num2 = int(a[1] + a[3])\n",
    "print(num1 + num2)"
   ],
   "outputs": [
    {
     "output_type": "stream",
     "name": "stdout",
     "text": [
      "['9', '8', '3', '2']\n",
      "175\n"
     ]
    }
   ],
   "metadata": {}
  },
  {
   "cell_type": "markdown",
   "source": [
    "try1"
   ],
   "metadata": {}
  },
  {
   "cell_type": "code",
   "execution_count": 26,
   "source": [
    "# a,b,c,d = map(int,input().split(' '))\n",
    "a = input().split(' ')\n",
    "a"
   ],
   "outputs": [
    {
     "output_type": "execute_result",
     "data": {
      "text/plain": [
       "['2', '9', '3', '8']"
      ]
     },
     "metadata": {},
     "execution_count": 26
    }
   ],
   "metadata": {}
  },
  {
   "cell_type": "code",
   "execution_count": 48,
   "source": [
    "arr = []\n",
    "for v in itertools.permutations(a, 4):\n",
    "    a = list(v)\n",
    "    print(a)\n",
    "    first = f\"{a[0]}{a[1]}\"\n",
    "    second = f\"{a[2]}{a[3]}\"\n",
    "    \n",
    "    result = int(first) + int(second)\n",
    "    arr.append(result)\n",
    "print(max(arr))"
   ],
   "outputs": [
    {
     "output_type": "stream",
     "name": "stdout",
     "text": [
      "['9', '8', '3', '2']\n",
      "['9', '8', '2', '3']\n",
      "['9', '3', '8', '2']\n",
      "['9', '3', '2', '8']\n",
      "['9', '2', '8', '3']\n",
      "['9', '2', '3', '8']\n",
      "['8', '9', '3', '2']\n",
      "['8', '9', '2', '3']\n",
      "['8', '3', '9', '2']\n",
      "['8', '3', '2', '9']\n",
      "['8', '2', '9', '3']\n",
      "['8', '2', '3', '9']\n",
      "['3', '9', '8', '2']\n",
      "['3', '9', '2', '8']\n",
      "['3', '8', '9', '2']\n",
      "['3', '8', '2', '9']\n",
      "['3', '2', '9', '8']\n",
      "['3', '2', '8', '9']\n",
      "['2', '9', '8', '3']\n",
      "['2', '9', '3', '8']\n",
      "['2', '8', '9', '3']\n",
      "['2', '8', '3', '9']\n",
      "['2', '3', '9', '8']\n",
      "['2', '3', '8', '9']\n",
      "175\n"
     ]
    }
   ],
   "metadata": {}
  }
 ],
 "metadata": {
  "orig_nbformat": 4,
  "language_info": {
   "name": "python",
   "version": "3.8.5",
   "mimetype": "text/x-python",
   "codemirror_mode": {
    "name": "ipython",
    "version": 3
   },
   "pygments_lexer": "ipython3",
   "nbconvert_exporter": "python",
   "file_extension": ".py"
  },
  "kernelspec": {
   "name": "python3",
   "display_name": "Python 3.8.5 64-bit ('venv': venv)"
  },
  "interpreter": {
   "hash": "f7b02a277ea93dcc6f71c1ec15134212ee9fa248997ed16dbaeb85b4def7b4d2"
  }
 },
 "nbformat": 4,
 "nbformat_minor": 2
}