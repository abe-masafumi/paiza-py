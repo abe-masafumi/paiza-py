{
 "cells": [
  {
   "cell_type": "code",
   "execution_count": 443,
   "metadata": {},
   "outputs": [],
   "source": [
    "from paiza_test import*"
   ]
  },
  {
   "cell_type": "code",
   "execution_count": 444,
   "metadata": {},
   "outputs": [],
   "source": [
    "input_text=\"\"\"4\n",
    "6 3 6\n",
    "1\n",
    "3\n",
    "5\n",
    "\"\"\"\n",
    "\n",
    "def_input(input_text)"
   ]
  },
  {
   "cell_type": "code",
   "execution_count": 445,
   "metadata": {},
   "outputs": [],
   "source": [
    "n=int(input())"
   ]
  },
  {
   "cell_type": "code",
   "execution_count": 446,
   "metadata": {},
   "outputs": [
    {
     "data": {
      "text/plain": [
       "['6', '3', '6']"
      ]
     },
     "execution_count": 446,
     "metadata": {},
     "output_type": "execute_result"
    }
   ],
   "source": [
    "a = input().split(' ')\n",
    "a"
   ]
  },
  {
   "cell_type": "code",
   "execution_count": 447,
   "metadata": {},
   "outputs": [
    {
     "data": {
      "text/plain": [
       "[1, 3, 5]"
      ]
     },
     "execution_count": 447,
     "metadata": {},
     "output_type": "execute_result"
    }
   ],
   "source": [
    "grass = list(range(1,int(a[0])+1))\n",
    "\n",
    "line = [input() for i in range(int(a[1]))]\n",
    "line = list(map(int,line))\n",
    "line"
   ]
  },
  {
   "cell_type": "code",
   "execution_count": 448,
   "metadata": {},
   "outputs": [
    {
     "name": "stdout",
     "output_type": "stream",
     "text": [
      "[2, 4, 6]\n",
      "[4, 6]\n",
      "[6]\n",
      "[3, 5]\n",
      "[5]\n",
      "[]\n",
      "[4, 6]\n",
      "[6]\n",
      "[2, 3, 5]\n",
      "[5]\n",
      "[]\n",
      "[3, 4, 6]\n",
      "[6]\n",
      "[2, 4, 5]\n",
      "[4, 5]\n",
      "[]\n",
      "[3, 5, 6]\n",
      "[5, 6]\n",
      "1\n",
      "3\n",
      "5\n"
     ]
    }
   ],
   "source": [
    "for _ in range(int(a[2])):\n",
    "  for i,u in enumerate(line):\n",
    "    diff = list(set(grass) ^ set(line))\n",
    "    new = list(filter(lambda x: x > u ,diff))\n",
    "    print(new)\n",
    "    if not new:\n",
    "      line[i] = diff[0]\n",
    "    else:\n",
    "      line[i] = new[0]\n",
    "      \n",
    "for i in line:\n",
    "  print(i)\n",
    "  "
   ]
  }
 ],
 "metadata": {
  "interpreter": {
   "hash": "f13631c8933df2c77a5f37b07a4eee384ff657868836bfcfaf302a40f637f675"
  },
  "kernelspec": {
   "display_name": "Python 3.8.5 64-bit ('venv': venv)",
   "name": "python3"
  },
  "language_info": {
   "codemirror_mode": {
    "name": "ipython",
    "version": 3
   },
   "file_extension": ".py",
   "mimetype": "text/x-python",
   "name": "python",
   "nbconvert_exporter": "python",
   "pygments_lexer": "ipython3",
   "version": "3.9.10"
  },
  "orig_nbformat": 4
 },
 "nbformat": 4,
 "nbformat_minor": 2
}
